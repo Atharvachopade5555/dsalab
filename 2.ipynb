{
 "cells": [
  {
   "cell_type": "code",
   "execution_count": null,
   "id": "97a7b5a4-a419-4f30-9f0e-2c418be06e96",
   "metadata": {},
   "outputs": [],
   "source": [
    "class TelephoneDirectory:\n",
    "    def __init__(self, size):\n",
    "        self.size = size\n",
    "        self.directory = [None] * size\n",
    "\n",
    "    def hash_function(self, key):\n",
    "        return key % self.size\n",
    "\n",
    "    def insert(self, name, number):\n",
    "        key = sum(ord(char) for char in name.lower())\n",
    "        index = self.hash_function(key)\n",
    "        for i in range(self.size):\n",
    "            new_index = (index + i) % self.size\n",
    "            if self.directory[new_index] is None:\n",
    "                self.directory[new_index] = (name, number)\n",
    "                return\n",
    "        print(\"Directory is full! Cannot insert new entry.\")\n",
    "\n",
    "    def search(self, name):\n",
    "        key = sum(ord(char) for char in name.lower())\n",
    "        index = self.hash_function(key)\n",
    "        for i in range(self.size):\n",
    "            new_index = (index + i) % self.size\n",
    "            if self.directory[new_index] and self.directory[new_index][0].lower() == name.lower():\n",
    "                return self.directory[new_index][1]\n",
    "        return None\n",
    "\n",
    "    def display(self):\n",
    "        print(\"\\nTelephone Directory.\")\n",
    "        for i, entry in enumerate(self.directory):\n",
    "            if entry:\n",
    "                print(f\"Index {i}: {entry}\")\n",
    "            else:\n",
    "                print(f\"Index {i}: Empty\")\n",
    "\n",
    "if __name__ == \"__main__\":\n",
    "    directory = TelephoneDirectory(10)\n",
    "    directory.insert(\"Sohan\", \"6686887900\")\n",
    "    directory.insert(\"Arman\", \"6723564234\")\n",
    "    directory.insert(\"Harshad\", \"663535350\")\n",
    "    directory.insert(\"Satish\", \"9873343900\")\n",
    "    directory.display()\n",
    "\n",
    "    names_to_search = [\"Satish\", \"Arman\"]\n",
    "    for name in names_to_search:\n",
    "        result = directory.search(name)\n",
    "        if result:\n",
    "            print(f\"Phone number for {name}: {result}\")\n",
    "        else:\n",
    "            print(f\"{name} not found in directory.\")\n"
   ]
  }
 ],
 "metadata": {
  "kernelspec": {
   "display_name": "Python 3 (ipykernel)",
   "language": "python",
   "name": "python3"
  },
  "language_info": {
   "codemirror_mode": {
    "name": "ipython",
    "version": 3
   },
   "file_extension": ".py",
   "mimetype": "text/x-python",
   "name": "python",
   "nbconvert_exporter": "python",
   "pygments_lexer": "ipython3",
   "version": "3.13.3"
  }
 },
 "nbformat": 4,
 "nbformat_minor": 5
}
